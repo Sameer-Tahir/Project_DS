{
  "nbformat": 4,
  "nbformat_minor": 0,
  "metadata": {
    "colab": {
      "provenance": [],
      "authorship_tag": "ABX9TyN5YNVltpHiDIbtQRnKr3L4",
      "include_colab_link": true
    },
    "kernelspec": {
      "name": "python3",
      "display_name": "Python 3"
    },
    "language_info": {
      "name": "python"
    }
  },
  "cells": [
    {
      "cell_type": "markdown",
      "metadata": {
        "id": "view-in-github",
        "colab_type": "text"
      },
      "source": [
        "<a href=\"https://colab.research.google.com/github/Sameer-Tahir/Project_DS/blob/main/Project.ipynb\" target=\"_parent\"><img src=\"https://colab.research.google.com/assets/colab-badge.svg\" alt=\"Open In Colab\"/></a>"
      ]
    },
    {
      "cell_type": "code",
      "execution_count": null,
      "metadata": {
        "id": "gvU_9ViJq_JW",
        "colab": {
          "base_uri": "https://localhost:8080/"
        },
        "outputId": "470cd965-dd4c-4c21-9b35-6f9efe2d4386"
      },
      "outputs": [
        {
          "output_type": "stream",
          "name": "stdout",
          "text": [
            "hello this is google colab\n"
          ]
        }
      ],
      "source": [
        "print(\"hello this is google colab\")"
      ]
    },
    {
      "cell_type": "code",
      "source": [
        "print(\"hello this is github\")"
      ],
      "metadata": {
        "id": "c77Ac8XN1vVD",
        "outputId": "0c51670a-ae2c-4ecb-a211-4f01a48f51da",
        "colab": {
          "base_uri": "https://localhost:8080/"
        }
      },
      "execution_count": 1,
      "outputs": [
        {
          "output_type": "stream",
          "name": "stdout",
          "text": [
            "hello this is github\n"
          ]
        }
      ]
    },
    {
      "cell_type": "code",
      "source": [],
      "metadata": {
        "id": "DiVHFNhZ3s7g"
      },
      "execution_count": null,
      "outputs": []
    }
  ]
}
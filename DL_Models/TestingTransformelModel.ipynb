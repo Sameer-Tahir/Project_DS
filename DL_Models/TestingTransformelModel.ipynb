{
  "nbformat": 4,
  "nbformat_minor": 0,
  "metadata": {
    "colab": {
      "provenance": [],
      "authorship_tag": "ABX9TyMnWDnvZnyNDn/BgCmPKwEL",
      "include_colab_link": true
    },
    "kernelspec": {
      "name": "python3",
      "display_name": "Python 3"
    },
    "language_info": {
      "name": "python"
    }
  },
  "cells": [
    {
      "cell_type": "markdown",
      "metadata": {
        "id": "view-in-github",
        "colab_type": "text"
      },
      "source": [
        "<a href=\"https://colab.research.google.com/github/Sameer-Tahir/Project_DS/blob/main/DL_Models/TestingTransformelModel.ipynb\" target=\"_parent\"><img src=\"https://colab.research.google.com/assets/colab-badge.svg\" alt=\"Open In Colab\"/></a>"
      ]
    },
    {
      "cell_type": "code",
      "execution_count": 1,
      "metadata": {
        "colab": {
          "base_uri": "https://localhost:8080/"
        },
        "id": "KO38GCeGL8nH",
        "outputId": "b420aea9-a681-4efa-96b8-18f30e5ba1aa"
      },
      "outputs": [
        {
          "output_type": "stream",
          "name": "stdout",
          "text": [
            "Cloning into 'Project_DS'...\n",
            "remote: Enumerating objects: 331, done.\u001b[K\n",
            "remote: Counting objects: 100% (63/63), done.\u001b[K\n",
            "remote: Compressing objects: 100% (54/54), done.\u001b[K\n",
            "remote: Total 331 (delta 42), reused 9 (delta 9), pack-reused 268 (from 2)\u001b[K\n",
            "Receiving objects: 100% (331/331), 25.42 MiB | 17.29 MiB/s, done.\n",
            "Resolving deltas: 100% (114/114), done.\n"
          ]
        }
      ],
      "source": [
        "!git clone https://github.com/Sameer-Tahir/Project_DS.git"
      ]
    },
    {
      "cell_type": "code",
      "source": [
        "import numpy as np\n",
        "import joblib\n",
        "import pandas as pd"
      ],
      "metadata": {
        "id": "j_28Jn_6MLjC"
      },
      "execution_count": 2,
      "outputs": []
    },
    {
      "cell_type": "code",
      "source": [
        "!unzip -o dl_preprocessed.zip"
      ],
      "metadata": {
        "colab": {
          "base_uri": "https://localhost:8080/"
        },
        "id": "NQfx_P9qMRhC",
        "outputId": "d9d20eae-c1e4-4e15-c18d-cf600d4bc5ab"
      },
      "execution_count": 3,
      "outputs": [
        {
          "output_type": "stream",
          "name": "stdout",
          "text": [
            "Archive:  dl_preprocessed.zip\n",
            "  inflating: dl_data_windows.npz     \n",
            "  inflating: label_encoder.pkl       \n",
            "  inflating: scaler.pkl              \n"
          ]
        }
      ]
    },
    {
      "cell_type": "code",
      "source": [
        "# Load arrays\n",
        "data = np.load(\"dl_data_windows.npz\", allow_pickle=True)\n",
        "X_train, y_train = data[\"X_train\"], data[\"y_train\"]\n",
        "X_val, y_val     = data[\"X_val\"],   data[\"y_val\"]\n",
        "X_test, y_test   = data[\"X_test\"],  data[\"y_test\"]\n",
        "feature_cols     = data[\"feature_cols\"].tolist()\n",
        "classes          = data[\"classes\"]\n",
        "\n",
        "# Load encoder & scaler\n",
        "le = joblib.load(\"label_encoder.pkl\")\n",
        "scaler = joblib.load(\"scaler.pkl\")\n",
        "\n",
        "print(\"✅ Data loaded successfully\")\n",
        "print(\"Train:\", X_train.shape, y_train.shape)\n",
        "print(\"Val:\",   X_val.shape, y_val.shape)\n",
        "print(\"Test:\",  X_test.shape, y_test.shape)\n",
        "print(\"Classes:\", classes)"
      ],
      "metadata": {
        "colab": {
          "base_uri": "https://localhost:8080/"
        },
        "id": "I1Zc5SvWMRea",
        "outputId": "a99304b5-31d0-4013-f10e-f7542dae5068"
      },
      "execution_count": 4,
      "outputs": [
        {
          "output_type": "stream",
          "name": "stdout",
          "text": [
            "✅ Data loaded successfully\n",
            "Train: (4835, 6, 222) (4835,)\n",
            "Val: (591, 6, 222) (591,)\n",
            "Test: (590, 6, 222) (590,)\n",
            "Classes: ['aggressive-scan' 'cryptojacking' 'icmp-flood' 'icmp-fragmentation'\n",
            " 'icmp-fragmentation_old' 'none' 'os-fingerprinting' 'os-scan' 'port-scan'\n",
            " 'push-ack-flood' 'serice-detection' 'service-detection' 'syn-flood'\n",
            " 'syn-stealth' 'synonymous-ip-flood' 'tcp-flood' 'udp-flood' 'vuln-scan']\n"
          ]
        }
      ]
    },
    {
      "cell_type": "code",
      "source": [
        "import torch\n",
        "\n",
        "try:\n",
        "    model = torch.load(\"best_model.pth\", map_location=\"cpu\")\n",
        "    print(\"✅ Loaded full PyTorch model\")\n",
        "except Exception as e:\n",
        "    print(\"❌ Could not load model directly:\", e)\n",
        "    print(\"⚠️ If this file only has state_dict, you’ll need the model architecture.\")"
      ],
      "metadata": {
        "colab": {
          "base_uri": "https://localhost:8080/"
        },
        "id": "LTr1-kH7MbrZ",
        "outputId": "2bfa7f50-1ea8-4d33-dd24-a3a471f66ac3"
      },
      "execution_count": 5,
      "outputs": [
        {
          "output_type": "stream",
          "name": "stdout",
          "text": [
            "✅ Loaded full PyTorch model\n"
          ]
        }
      ]
    },
    {
      "cell_type": "code",
      "source": [
        "import torch\n",
        "import torch.nn as nn"
      ],
      "metadata": {
        "id": "cFiiPkQSODjf"
      },
      "execution_count": 8,
      "outputs": []
    },
    {
      "cell_type": "code",
      "source": [
        "import torch\n",
        "import torch.nn as nn\n",
        "\n",
        "class TheirTransformer(nn.Module):\n",
        "    def __init__(self, d_model=10, nhead=2, num_layers=2, dim_feedforward=2048, dropout=0.1):\n",
        "        super(TheirTransformer, self).__init__()\n",
        "        encoder_layer = nn.TransformerEncoderLayer(\n",
        "            d_model=d_model,\n",
        "            nhead=nhead,\n",
        "            dim_feedforward=dim_feedforward,\n",
        "            dropout=dropout,\n",
        "            batch_first=True\n",
        "        )\n",
        "        self.transformer_encoder = nn.TransformerEncoder(encoder_layer, num_layers=num_layers)\n",
        "\n",
        "        # ✅ Match checkpoint: Linear -> ReLU -> Linear\n",
        "        self.fc = nn.Sequential(\n",
        "            nn.Linear(d_model, 5),\n",
        "            nn.ReLU(),\n",
        "            nn.Linear(5, 1)\n",
        "        )\n",
        "        self.sigmoid = nn.Sigmoid()\n",
        "\n",
        "    def forward(self, x):\n",
        "        x = self.transformer_encoder(x)   # (batch, seq_len, d_model)\n",
        "        x = x.mean(dim=1)                 # Pool across sequence\n",
        "        x = self.fc(x)\n",
        "        return self.sigmoid(x)"
      ],
      "metadata": {
        "id": "sPdtC_-DOKWG"
      },
      "execution_count": 15,
      "outputs": []
    },
    {
      "cell_type": "code",
      "source": [
        "device = torch.device(\"cuda\" if torch.cuda.is_available() else \"cpu\")\n",
        "model = TheirTransformer(d_model=10, nhead=2, num_layers=2, dim_feedforward=2048).to(device)\n",
        "\n",
        "state_dict = torch.load(\"best_model.pth\", map_location=device)\n",
        "model.load_state_dict(state_dict)   # ✅ should now work\n",
        "model.eval()\n",
        "print(\"✅ Pretrained model loaded successfully\")\n",
        "\n"
      ],
      "metadata": {
        "colab": {
          "base_uri": "https://localhost:8080/"
        },
        "id": "rtXI138aOM03",
        "outputId": "c17b98ff-9a52-41c7-8169-f13108165221"
      },
      "execution_count": 16,
      "outputs": [
        {
          "output_type": "stream",
          "name": "stdout",
          "text": [
            "✅ Pretrained model loaded successfully\n"
          ]
        }
      ]
    },
    {
      "cell_type": "code",
      "source": [
        "# -----------------------\n",
        "# Load your splits\n",
        "# -----------------------\n",
        "import pandas as pd\n",
        "import numpy as np\n",
        "import joblib\n",
        "\n",
        "train_df = pd.read_csv(\"dfk1_train.csv\")\n",
        "val_df   = pd.read_csv(\"dfk1_val.csv\")\n",
        "test_df  = pd.read_csv(\"dfk1_test.csv\")"
      ],
      "metadata": {
        "id": "llP1jmVkMl4j"
      },
      "execution_count": 17,
      "outputs": []
    },
    {
      "cell_type": "code",
      "source": [
        "# Load arrays (these were already preprocessed)\n",
        "data = np.load(\"dl_data_windows.npz\", allow_pickle=True)\n",
        "X_train, y_train = data[\"X_train\"], data[\"y_train\"]\n",
        "X_val, y_val     = data[\"X_val\"],   data[\"y_val\"]\n",
        "X_test, y_test   = data[\"X_test\"],  data[\"y_test\"]\n",
        "feature_cols     = data[\"feature_cols\"].tolist()\n",
        "classes          = data[\"classes\"]\n",
        "\n",
        "# Load encoder & scaler (if needed later)\n",
        "le = joblib.load(\"label_encoder.pkl\")\n",
        "scaler = joblib.load(\"scaler.pkl\")\n",
        "\n",
        "print(\"✅ Data loaded successfully\")\n",
        "print(\"Train:\", X_train.shape, y_train.shape)\n",
        "print(\"Val:\",   X_val.shape, y_val.shape)\n",
        "print(\"Test:\",  X_test.shape, y_test.shape)\n",
        "print(\"Classes:\", classes)"
      ],
      "metadata": {
        "colab": {
          "base_uri": "https://localhost:8080/"
        },
        "id": "VCH_eWzqMl2B",
        "outputId": "ba79a499-7f2c-438d-efbe-e3812615eec8"
      },
      "execution_count": 18,
      "outputs": [
        {
          "output_type": "stream",
          "name": "stdout",
          "text": [
            "✅ Data loaded successfully\n",
            "Train: (4835, 6, 222) (4835,)\n",
            "Val: (591, 6, 222) (591,)\n",
            "Test: (590, 6, 222) (590,)\n",
            "Classes: ['aggressive-scan' 'cryptojacking' 'icmp-flood' 'icmp-fragmentation'\n",
            " 'icmp-fragmentation_old' 'none' 'os-fingerprinting' 'os-scan' 'port-scan'\n",
            " 'push-ack-flood' 'serice-detection' 'service-detection' 'syn-flood'\n",
            " 'syn-stealth' 'synonymous-ip-flood' 'tcp-flood' 'udp-flood' 'vuln-scan']\n"
          ]
        }
      ]
    },
    {
      "cell_type": "code",
      "source": [
        "# Find the index of the \"none\" class\n",
        "none_idx = np.where(classes == \"none\")[0][0]\n",
        "print(\"Index of 'none':\", none_idx)\n",
        "\n",
        "# Convert multi-class labels into binary (normal vs attack)\n",
        "y_train_bin = (y_train != none_idx).astype(int)\n",
        "y_val_bin   = (y_val   != none_idx).astype(int)\n",
        "y_test_bin  = (y_test  != none_idx).astype(int)\n",
        "\n",
        "print(\"Binary class distribution in test:\", np.bincount(y_test_bin))\n"
      ],
      "metadata": {
        "colab": {
          "base_uri": "https://localhost:8080/"
        },
        "id": "uuanbrsvQi9t",
        "outputId": "94d35f60-51b9-4380-d625-919d00625e06"
      },
      "execution_count": 20,
      "outputs": [
        {
          "output_type": "stream",
          "name": "stdout",
          "text": [
            "Index of 'none': 5\n",
            "Binary class distribution in test: [220 370]\n"
          ]
        }
      ]
    },
    {
      "cell_type": "code",
      "source": [
        "import torch\n",
        "import torch.nn as nn\n",
        "from torch.utils.data import TensorDataset, DataLoader\n",
        "import numpy as np\n",
        "from sklearn.metrics import accuracy_score, f1_score, classification_report, confusion_matrix\n",
        "import matplotlib.pyplot as plt\n",
        "\n",
        "# -----------------------\n",
        "# Adapter + Wrapper\n",
        "# -----------------------\n",
        "class InputAdapter(nn.Module):\n",
        "    def __init__(self, input_dim=222, embed_dim=10):  # pretrained model expects 10\n",
        "        super().__init__()\n",
        "        self.proj = nn.Linear(input_dim, embed_dim)\n",
        "\n",
        "    def forward(self, x):\n",
        "        # x shape: (batch, seq_len, 222)\n",
        "        return self.proj(x)\n",
        "\n",
        "class FullModel(nn.Module):\n",
        "    def __init__(self, adapter, transformer_model):\n",
        "        super().__init__()\n",
        "        self.adapter = adapter\n",
        "        self.transformer = transformer_model\n",
        "\n",
        "    def forward(self, x):\n",
        "        x = self.adapter(x)        # project to 10 dims\n",
        "        return self.transformer(x) # forward through pretrained\n",
        "\n",
        "# Initialize adapter + wrap pretrained model\n",
        "adapter = InputAdapter(input_dim=X_test.shape[2], embed_dim=10).to(device)\n",
        "full_model = FullModel(adapter, model).to(device)\n",
        "full_model.eval()\n",
        "\n",
        "# -----------------------\n",
        "# Convert numpy arrays -> PyTorch tensors\n",
        "# -----------------------\n",
        "X_test_tensor = torch.tensor(X_test, dtype=torch.float32).to(device)\n",
        "y_test_tensor = torch.tensor(y_test_bin, dtype=torch.float32).to(device)  # binary labels\n",
        "\n",
        "# Create DataLoader for test set\n",
        "test_dataset = TensorDataset(X_test_tensor, y_test_tensor)\n",
        "test_loader = DataLoader(test_dataset, batch_size=128, shuffle=False)\n",
        "\n",
        "# -----------------------\n",
        "# Evaluation\n",
        "# -----------------------\n",
        "all_preds, all_labels = [], []\n",
        "\n",
        "with torch.no_grad():\n",
        "    for X_batch, y_batch in test_loader:\n",
        "        outputs = full_model(X_batch)  # use wrapper instead of model\n",
        "        preds = (outputs > 0.5).long().cpu().numpy()  # threshold 0.5\n",
        "        all_preds.extend(preds.flatten())\n",
        "        all_labels.extend(y_batch.cpu().numpy())\n",
        "\n",
        "# Convert to numpy arrays\n",
        "all_preds = np.array(all_preds)\n",
        "all_labels = np.array(all_labels)\n",
        "\n",
        "# -----------------------\n",
        "# Metrics\n",
        "# -----------------------\n",
        "acc = accuracy_score(all_labels, all_preds)\n",
        "f1 = f1_score(all_labels, all_preds)\n",
        "report = classification_report(all_labels, all_preds, target_names=[\"Normal\", \"Attack\"])\n",
        "cm = confusion_matrix(all_labels, all_preds)\n",
        "\n",
        "print(\"\\n✅ Pretrained Model Results\")\n",
        "print(\"Accuracy:\", acc)\n",
        "print(\"F1 Score:\", f1)\n",
        "print(report)\n",
        "\n",
        "# -----------------------\n",
        "# Confusion Matrix Plot\n",
        "# -----------------------\n",
        "plt.figure(figsize=(6,5))\n",
        "plt.imshow(cm, cmap=\"Blues\")\n",
        "plt.title(\"Confusion Matrix (Pretrained Transformer)\")\n",
        "plt.colorbar()\n",
        "plt.xticks([0,1], [\"Normal\",\"Attack\"])\n",
        "plt.yticks([0,1], [\"Normal\",\"Attack\"])\n",
        "plt.xlabel(\"Predicted\")\n",
        "plt.ylabel(\"Actual\")\n",
        "\n",
        "# Add counts\n",
        "for i in range(cm.shape[0]):\n",
        "    for j in range(cm.shape[1]):\n",
        "        plt.text(j, i, cm[i, j], ha=\"center\", va=\"center\",\n",
        "                 color=\"red\" if cm[i,j] > cm.max()/2 else \"black\")\n",
        "\n",
        "plt.tight_layout()\n",
        "plt.show()\n"
      ],
      "metadata": {
        "colab": {
          "base_uri": "https://localhost:8080/",
          "height": 720
        },
        "id": "Np3ApBafQlc9",
        "outputId": "063cf936-fc16-409a-ba7a-704f776d5e37"
      },
      "execution_count": 22,
      "outputs": [
        {
          "output_type": "stream",
          "name": "stdout",
          "text": [
            "\n",
            "✅ Pretrained Model Results\n",
            "Accuracy: 0.3694915254237288\n",
            "F1 Score: 0.4241486068111455\n",
            "              precision    recall  f1-score   support\n",
            "\n",
            "      Normal       0.26      0.37      0.30       220\n",
            "      Attack       0.50      0.37      0.42       370\n",
            "\n",
            "    accuracy                           0.37       590\n",
            "   macro avg       0.38      0.37      0.36       590\n",
            "weighted avg       0.41      0.37      0.38       590\n",
            "\n"
          ]
        },
        {
          "output_type": "display_data",
          "data": {
            "text/plain": [
              "<Figure size 600x500 with 2 Axes>"
            ],
            "image/png": "[encoded data removed]"
          },
          "metadata": {}
        }
      ]
    },
    {
      "cell_type": "code",
      "source": [],
      "metadata": {
        "id": "0HeQ8N3BSO9N"
      },
      "execution_count": null,
      "outputs": []
    }
  ]
}
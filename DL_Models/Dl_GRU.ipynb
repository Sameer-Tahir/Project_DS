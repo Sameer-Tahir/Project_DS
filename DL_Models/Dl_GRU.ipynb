{
  "nbformat": 4,
  "nbformat_minor": 0,
  "metadata": {
    "colab": {
      "provenance": [],
      "authorship_tag": "ABX9TyOq9tVDdD8j9NAq8pq2JJp2",
      "include_colab_link": true
    },
    "kernelspec": {
      "name": "python3",
      "display_name": "Python 3"
    },
    "language_info": {
      "name": "python"
    }
  },
  "cells": [
    {
      "cell_type": "markdown",
      "metadata": {
        "id": "view-in-github",
        "colab_type": "text"
      },
      "source": [
        "<a href=\"https://colab.research.google.com/github/Sameer-Tahir/Project_DS/blob/main/DL_Models/Dl_GRU.ipynb\" target=\"_parent\"><img src=\"https://colab.research.google.com/assets/colab-badge.svg\" alt=\"Open In Colab\"/></a>"
      ]
    },
    {
      "cell_type": "code",
      "execution_count": 2,
      "metadata": {
        "colab": {
          "base_uri": "https://localhost:8080/"
        },
        "id": "6u_lXN_arwdc",
        "outputId": "72ff6650-e854-481b-c0ba-a5059d28fc51"
      },
      "outputs": [
        {
          "output_type": "stream",
          "name": "stdout",
          "text": [
            "fatal: destination path 'Project_DS' already exists and is not an empty directory.\n"
          ]
        }
      ],
      "source": [
        "!git clone https://github.com/Sameer-Tahir/Project_DS.git"
      ]
    },
    {
      "cell_type": "code",
      "source": [
        "# Import libraries\n",
        "import pandas as pd   # data processing\n",
        "import numpy as np    # linear algebra\n",
        "import seaborn as sns\n",
        "import matplotlib.pyplot as plt"
      ],
      "metadata": {
        "id": "UMoAxV6Jt6Ur"
      },
      "execution_count": null,
      "outputs": []
    },
    {
      "cell_type": "code",
      "source": [
        "import pandas as pd\n",
        "import seaborn as sns\n",
        "import matplotlib.pyplot as plt\n",
        "from sklearn.preprocessing import LabelEncoder, StandardScaler\n",
        "from sklearn.metrics import accuracy_score, f1_score, classification_report, confusion_matrix\n",
        "from sklearn.linear_model import LogisticRegression\n",
        "from sklearn.ensemble import RandomForestClassifier\n",
        "from sklearn.svm import SVC\n",
        "from sklearn.neighbors import KNeighborsClassifier\n",
        "from sklearn.naive_bayes import GaussianNB\n",
        "from sklearn.tree import DecisionTreeClassifier\n",
        "from sklearn.ensemble import HistGradientBoostingClassifier\n",
        "from xgboost import XGBClassifier\n",
        "from sklearn.utils.class_weight import compute_class_weight\n",
        "import numpy as np\n",
        "import pandas as pd"
      ],
      "metadata": {
        "id": "0rf1NtZFuDR5"
      },
      "execution_count": null,
      "outputs": []
    },
    {
      "cell_type": "code",
      "source": [
        "# -----------------------\n",
        "# Load your splits\n",
        "# -----------------------\n",
        "train_df = pd.read_csv(\"dfk1_train.csv\")\n",
        "val_df   = pd.read_csv(\"dfk1_val.csv\")\n",
        "test_df  = pd.read_csv(\"dfk1_test.csv\")"
      ],
      "metadata": {
        "id": "hLRhoLJLuKLa"
      },
      "execution_count": null,
      "outputs": []
    },
    {
      "cell_type": "code",
      "source": [
        "!unzip -o dl_preprocessed.zip"
      ],
      "metadata": {
        "colab": {
          "base_uri": "https://localhost:8080/"
        },
        "id": "rNYP12Vd7Ifd",
        "outputId": "33bb4c74-6741-44b5-9c29-9918a1beda86"
      },
      "execution_count": null,
      "outputs": [
        {
          "output_type": "stream",
          "name": "stdout",
          "text": [
            "Archive:  dl_preprocessed.zip\n",
            "  inflating: dl_data_windows.npz     \n",
            "  inflating: label_encoder.pkl       \n",
            "  inflating: scaler.pkl              \n"
          ]
        }
      ]
    },
    {
      "cell_type": "code",
      "source": [
        "import numpy as np, joblib\n",
        "\n",
        "# Load arrays\n",
        "data = np.load(\"dl_data_windows.npz\", allow_pickle=True)\n",
        "X_train, y_train = data[\"X_train\"], data[\"y_train\"]\n",
        "X_val, y_val     = data[\"X_val\"],   data[\"y_val\"]\n",
        "X_test, y_test   = data[\"X_test\"],  data[\"y_test\"]\n",
        "feature_cols     = data[\"feature_cols\"].tolist()\n",
        "classes          = data[\"classes\"]\n",
        "\n",
        "# Load encoder & scaler\n",
        "le = joblib.load(\"label_encoder.pkl\")\n",
        "scaler = joblib.load(\"scaler.pkl\")\n",
        "\n",
        "print(\"✅ Data loaded successfully\")\n",
        "print(\"Train:\", X_train.shape, y_train.shape)\n",
        "print(\"Val:\",   X_val.shape, y_val.shape)\n",
        "print(\"Test:\",  X_test.shape, y_test.shape)\n",
        "print(\"Classes:\", classes)"
      ],
      "metadata": {
        "id": "Ylc984nxumqa",
        "colab": {
          "base_uri": "https://localhost:8080/"
        },
        "outputId": "64cce3b6-1710-472f-bb84-23becda8a0e2"
      },
      "execution_count": null,
      "outputs": [
        {
          "output_type": "stream",
          "name": "stdout",
          "text": [
            "✅ Data loaded successfully\n",
            "Train: (4835, 6, 222) (4835,)\n",
            "Val: (591, 6, 222) (591,)\n",
            "Test: (590, 6, 222) (590,)\n",
            "Classes: ['aggressive-scan' 'cryptojacking' 'icmp-flood' 'icmp-fragmentation'\n",
            " 'icmp-fragmentation_old' 'none' 'os-fingerprinting' 'os-scan' 'port-scan'\n",
            " 'push-ack-flood' 'serice-detection' 'service-detection' 'syn-flood'\n",
            " 'syn-stealth' 'synonymous-ip-flood' 'tcp-flood' 'udp-flood' 'vuln-scan']\n"
          ]
        }
      ]
    },
    {
      "cell_type": "code",
      "source": [
        "import tensorflow as tf\n",
        "from tensorflow.keras import layers, models, callbacks"
      ],
      "metadata": {
        "id": "H_Phf3en94YJ"
      },
      "execution_count": null,
      "outputs": []
    },
    {
      "cell_type": "code",
      "source": [
        "# -----------------------\n",
        "# Build GRU\n",
        "# -----------------------\n",
        "def build_gru(window, n_features, n_classes):\n",
        "    model = models.Sequential([\n",
        "        layers.Input(shape=(window, n_features)),\n",
        "        layers.GRU(64, return_sequences=False),\n",
        "        layers.Dense(64, activation=\"relu\"),\n",
        "        layers.Dropout(0.3),\n",
        "        layers.Dense(n_classes, activation=\"softmax\")\n",
        "    ])\n",
        "    model.compile(optimizer=\"adam\",\n",
        "                  loss=\"sparse_categorical_crossentropy\",\n",
        "                  metrics=[\"accuracy\"])\n",
        "    return model\n",
        "\n",
        "gru_model = build_gru(window=X_train.shape[1], n_features=X_train.shape[2], n_classes=len(classes))\n",
        "\n",
        "# -----------------------\n",
        "# Train GRU\n",
        "# -----------------------\n",
        "early_stop = callbacks.EarlyStopping(monitor=\"val_accuracy\", patience=5, restore_best_weights=True)\n",
        "\n",
        "history_gru = gru_model.fit(\n",
        "    X_train, y_train,\n",
        "    validation_data=(X_val, y_val),\n",
        "    epochs=30,\n",
        "    batch_size=64,\n",
        "    callbacks=[early_stop],\n",
        "    verbose=1\n",
        ")\n",
        "\n",
        "# -----------------------\n",
        "# Evaluate GRU\n",
        "# -----------------------\n",
        "y_val_pred = gru_model.predict(X_val).argmax(axis=1)\n",
        "val_acc = accuracy_score(y_val, y_val_pred)\n",
        "val_f1 = f1_score(y_val, y_val_pred, average=\"macro\")\n",
        "\n",
        "print(\"\\n✅ GRU Results\")\n",
        "print(\"Accuracy:\", val_acc)\n",
        "print(\"Macro-F1:\", val_f1)\n",
        "print(classification_report(y_val, y_val_pred, target_names=classes, zero_division=0))\n",
        "\n",
        "cm = confusion_matrix(y_val, y_val_pred)\n",
        "\n",
        "plt.figure(figsize=(10,7))\n",
        "plt.imshow(cm, cmap=\"Blues\")\n",
        "plt.title(\"GRU Confusion Matrix\")\n",
        "plt.xlabel(\"Predicted\")\n",
        "plt.ylabel(\"Actual\")\n",
        "plt.colorbar()\n",
        "plt.show()\n",
        "\n",
        "# -----------------------\n",
        "# Save Model + Results\n",
        "# -----------------------\n",
        "\n",
        "# Save model in recommended format\n",
        "gru_model.save(\"gru_model.keras\")\n",
        "\n",
        "# Collect results\n",
        "results = {\n",
        "    \"accuracy\": test_acc,\n",
        "    \"macro_f1\": test_f1,\n",
        "    \"report\": report\n",
        "}\n",
        "\n",
        "# Save metrics\n",
        "import json\n",
        "with open(\"results_gru.json\", \"w\") as f:\n",
        "    json.dump(results, f, indent=4)\n",
        "\n",
        "print(\"✅ GRU model + results saved\")"
      ],
      "metadata": {
        "colab": {
          "base_uri": "https://localhost:8080/",
          "height": 1000
        },
        "id": "3UPs3A3z9Bw7",
        "outputId": "a4f384e3-ef57-46eb-e51a-47c7275ceb94"
      },
      "execution_count": null,
      "outputs": [
        {
          "output_type": "stream",
          "name": "stdout",
          "text": [
            "Epoch 1/30\n",
            "\u001b[1m76/76\u001b[0m \u001b[32m━━━━━━━━━━━━━━━━━━━━\u001b[0m\u001b[37m\u001b[0m \u001b[1m5s\u001b[0m 20ms/step - accuracy: 0.4312 - loss: 1.8986 - val_accuracy: 0.6734 - val_loss: 0.9600\n",
            "Epoch 2/30\n",
            "\u001b[1m76/76\u001b[0m \u001b[32m━━━━━━━━━━━━━━━━━━━━\u001b[0m\u001b[37m\u001b[0m \u001b[1m1s\u001b[0m 16ms/step - accuracy: 0.6948 - loss: 0.8840 - val_accuracy: 0.7208 - val_loss: 0.7428\n",
            "Epoch 3/30\n",
            "\u001b[1m76/76\u001b[0m \u001b[32m━━━━━━━━━━━━━━━━━━━━\u001b[0m\u001b[37m\u001b[0m \u001b[1m1s\u001b[0m 16ms/step - accuracy: 0.7166 - loss: 0.7790 - val_accuracy: 0.7563 - val_loss: 0.6696\n",
            "Epoch 4/30\n",
            "\u001b[1m76/76\u001b[0m \u001b[32m━━━━━━━━━━━━━━━━━━━━\u001b[0m\u001b[37m\u001b[0m \u001b[1m1s\u001b[0m 15ms/step - accuracy: 0.7464 - loss: 0.6932 - val_accuracy: 0.7699 - val_loss: 0.6051\n",
            "Epoch 5/30\n",
            "\u001b[1m76/76\u001b[0m \u001b[32m━━━━━━━━━━━━━━━━━━━━\u001b[0m\u001b[37m\u001b[0m \u001b[1m1s\u001b[0m 14ms/step - accuracy: 0.7769 - loss: 0.5903 - val_accuracy: 0.7716 - val_loss: 0.5572\n",
            "Epoch 6/30\n",
            "\u001b[1m76/76\u001b[0m \u001b[32m━━━━━━━━━━━━━━━━━━━━\u001b[0m\u001b[37m\u001b[0m \u001b[1m2s\u001b[0m 25ms/step - accuracy: 0.7820 - loss: 0.5758 - val_accuracy: 0.7936 - val_loss: 0.5195\n",
            "Epoch 7/30\n",
            "\u001b[1m76/76\u001b[0m \u001b[32m━━━━━━━━━━━━━━━━━━━━\u001b[0m\u001b[37m\u001b[0m \u001b[1m2s\u001b[0m 21ms/step - accuracy: 0.7930 - loss: 0.5295 - val_accuracy: 0.8003 - val_loss: 0.4964\n",
            "Epoch 8/30\n",
            "\u001b[1m76/76\u001b[0m \u001b[32m━━━━━━━━━━━━━━━━━━━━\u001b[0m\u001b[37m\u001b[0m \u001b[1m1s\u001b[0m 13ms/step - accuracy: 0.8100 - loss: 0.4932 - val_accuracy: 0.8156 - val_loss: 0.4671\n",
            "Epoch 9/30\n",
            "\u001b[1m76/76\u001b[0m \u001b[32m━━━━━━━━━━━━━━━━━━━━\u001b[0m\u001b[37m\u001b[0m \u001b[1m1s\u001b[0m 14ms/step - accuracy: 0.8007 - loss: 0.4903 - val_accuracy: 0.8325 - val_loss: 0.4484\n",
            "Epoch 10/30\n",
            "\u001b[1m76/76\u001b[0m \u001b[32m━━━━━━━━━━━━━━━━━━━━\u001b[0m\u001b[37m\u001b[0m \u001b[1m1s\u001b[0m 13ms/step - accuracy: 0.8129 - loss: 0.4876 - val_accuracy: 0.8156 - val_loss: 0.4458\n",
            "Epoch 11/30\n",
            "\u001b[1m76/76\u001b[0m \u001b[32m━━━━━━━━━━━━━━━━━━━━\u001b[0m\u001b[37m\u001b[0m \u001b[1m1s\u001b[0m 12ms/step - accuracy: 0.8288 - loss: 0.4257 - val_accuracy: 0.8156 - val_loss: 0.4352\n",
            "Epoch 12/30\n",
            "\u001b[1m76/76\u001b[0m \u001b[32m━━━━━━━━━━━━━━━━━━━━\u001b[0m\u001b[37m\u001b[0m \u001b[1m2s\u001b[0m 20ms/step - accuracy: 0.8288 - loss: 0.4471 - val_accuracy: 0.8511 - val_loss: 0.4018\n",
            "Epoch 13/30\n",
            "\u001b[1m76/76\u001b[0m \u001b[32m━━━━━━━━━━━━━━━━━━━━\u001b[0m\u001b[37m\u001b[0m \u001b[1m1s\u001b[0m 13ms/step - accuracy: 0.8205 - loss: 0.4318 - val_accuracy: 0.8477 - val_loss: 0.3912\n",
            "Epoch 14/30\n",
            "\u001b[1m76/76\u001b[0m \u001b[32m━━━━━━━━━━━━━━━━━━━━\u001b[0m\u001b[37m\u001b[0m \u001b[1m1s\u001b[0m 14ms/step - accuracy: 0.8336 - loss: 0.4209 - val_accuracy: 0.8376 - val_loss: 0.4438\n",
            "Epoch 15/30\n",
            "\u001b[1m76/76\u001b[0m \u001b[32m━━━━━━━━━━━━━━━━━━━━\u001b[0m\u001b[37m\u001b[0m \u001b[1m1s\u001b[0m 14ms/step - accuracy: 0.8353 - loss: 0.4146 - val_accuracy: 0.8579 - val_loss: 0.3838\n",
            "Epoch 16/30\n",
            "\u001b[1m76/76\u001b[0m \u001b[32m━━━━━━━━━━━━━━━━━━━━\u001b[0m\u001b[37m\u001b[0m \u001b[1m2s\u001b[0m 24ms/step - accuracy: 0.8540 - loss: 0.3745 - val_accuracy: 0.8579 - val_loss: 0.3745\n",
            "Epoch 17/30\n",
            "\u001b[1m76/76\u001b[0m \u001b[32m━━━━━━━━━━━━━━━━━━━━\u001b[0m\u001b[37m\u001b[0m \u001b[1m2s\u001b[0m 22ms/step - accuracy: 0.8502 - loss: 0.3732 - val_accuracy: 0.8663 - val_loss: 0.3664\n",
            "Epoch 18/30\n",
            "\u001b[1m76/76\u001b[0m \u001b[32m━━━━━━━━━━━━━━━━━━━━\u001b[0m\u001b[37m\u001b[0m \u001b[1m1s\u001b[0m 13ms/step - accuracy: 0.8503 - loss: 0.3767 - val_accuracy: 0.8579 - val_loss: 0.3987\n",
            "Epoch 19/30\n",
            "\u001b[1m76/76\u001b[0m \u001b[32m━━━━━━━━━━━━━━━━━━━━\u001b[0m\u001b[37m\u001b[0m \u001b[1m1s\u001b[0m 13ms/step - accuracy: 0.8438 - loss: 0.3785 - val_accuracy: 0.8646 - val_loss: 0.3526\n",
            "Epoch 20/30\n",
            "\u001b[1m76/76\u001b[0m \u001b[32m━━━━━━━━━━━━━━━━━━━━\u001b[0m\u001b[37m\u001b[0m \u001b[1m1s\u001b[0m 13ms/step - accuracy: 0.8445 - loss: 0.3716 - val_accuracy: 0.8393 - val_loss: 0.3658\n",
            "Epoch 21/30\n",
            "\u001b[1m76/76\u001b[0m \u001b[32m━━━━━━━━━━━━━━━━━━━━\u001b[0m\u001b[37m\u001b[0m \u001b[1m1s\u001b[0m 13ms/step - accuracy: 0.8555 - loss: 0.3537 - val_accuracy: 0.8731 - val_loss: 0.3474\n",
            "Epoch 22/30\n",
            "\u001b[1m76/76\u001b[0m \u001b[32m━━━━━━━━━━━━━━━━━━━━\u001b[0m\u001b[37m\u001b[0m \u001b[1m1s\u001b[0m 13ms/step - accuracy: 0.8594 - loss: 0.3477 - val_accuracy: 0.8646 - val_loss: 0.3656\n",
            "Epoch 23/30\n",
            "\u001b[1m76/76\u001b[0m \u001b[32m━━━━━━━━━━━━━━━━━━━━\u001b[0m\u001b[37m\u001b[0m \u001b[1m1s\u001b[0m 13ms/step - accuracy: 0.8662 - loss: 0.3420 - val_accuracy: 0.8731 - val_loss: 0.3427\n",
            "Epoch 24/30\n",
            "\u001b[1m76/76\u001b[0m \u001b[32m━━━━━━━━━━━━━━━━━━━━\u001b[0m\u001b[37m\u001b[0m \u001b[1m1s\u001b[0m 13ms/step - accuracy: 0.8662 - loss: 0.3220 - val_accuracy: 0.8765 - val_loss: 0.3365\n",
            "Epoch 25/30\n",
            "\u001b[1m76/76\u001b[0m \u001b[32m━━━━━━━━━━━━━━━━━━━━\u001b[0m\u001b[37m\u001b[0m \u001b[1m1s\u001b[0m 13ms/step - accuracy: 0.8590 - loss: 0.3260 - val_accuracy: 0.8596 - val_loss: 0.3612\n",
            "Epoch 26/30\n",
            "\u001b[1m76/76\u001b[0m \u001b[32m━━━━━━━━━━━━━━━━━━━━\u001b[0m\u001b[37m\u001b[0m \u001b[1m2s\u001b[0m 19ms/step - accuracy: 0.8696 - loss: 0.3165 - val_accuracy: 0.8646 - val_loss: 0.3426\n",
            "Epoch 27/30\n",
            "\u001b[1m76/76\u001b[0m \u001b[32m━━━━━━━━━━━━━━━━━━━━\u001b[0m\u001b[37m\u001b[0m \u001b[1m2s\u001b[0m 16ms/step - accuracy: 0.8784 - loss: 0.3184 - val_accuracy: 0.8680 - val_loss: 0.3325\n",
            "Epoch 28/30\n",
            "\u001b[1m76/76\u001b[0m \u001b[32m━━━━━━━━━━━━━━━━━━━━\u001b[0m\u001b[37m\u001b[0m \u001b[1m1s\u001b[0m 14ms/step - accuracy: 0.8609 - loss: 0.3202 - val_accuracy: 0.8799 - val_loss: 0.3382\n",
            "Epoch 29/30\n",
            "\u001b[1m76/76\u001b[0m \u001b[32m━━━━━━━━━━━━━━━━━━━━\u001b[0m\u001b[37m\u001b[0m \u001b[1m1s\u001b[0m 13ms/step - accuracy: 0.8731 - loss: 0.3132 - val_accuracy: 0.8697 - val_loss: 0.3242\n",
            "Epoch 30/30\n",
            "\u001b[1m76/76\u001b[0m \u001b[32m━━━━━━━━━━━━━━━━━━━━\u001b[0m\u001b[37m\u001b[0m \u001b[1m1s\u001b[0m 14ms/step - accuracy: 0.8793 - loss: 0.2912 - val_accuracy: 0.8697 - val_loss: 0.3244\n",
            "\u001b[1m19/19\u001b[0m \u001b[32m━━━━━━━━━━━━━━━━━━━━\u001b[0m\u001b[37m\u001b[0m \u001b[1m1s\u001b[0m 16ms/step\n",
            "\n",
            "✅ GRU Results\n",
            "Accuracy: 0.8798646362098139\n",
            "Macro-F1: 0.6788252589061018\n",
            "                        precision    recall  f1-score   support\n",
            "\n",
            "       aggressive-scan       0.68      0.68      0.68        19\n",
            "         cryptojacking       1.00      1.00      1.00       165\n",
            "            icmp-flood       0.62      1.00      0.76        13\n",
            "    icmp-fragmentation       1.00      1.00      1.00        11\n",
            "icmp-fragmentation_old       0.00      0.00      0.00         6\n",
            "                  none       1.00      1.00      1.00       220\n",
            "     os-fingerprinting       0.11      0.08      0.10        12\n",
            "               os-scan       0.60      1.00      0.75         6\n",
            "             port-scan       1.00      0.30      0.46        20\n",
            "        push-ack-flood       1.00      1.00      1.00        13\n",
            "      serice-detection       0.67      0.67      0.67         6\n",
            "     service-detection       0.40      0.57      0.47        14\n",
            "             syn-flood       1.00      0.92      0.96        13\n",
            "           syn-stealth       0.50      0.61      0.55        18\n",
            "   synonymous-ip-flood       0.90      0.75      0.82        12\n",
            "             tcp-flood       0.75      0.75      0.75        12\n",
            "             udp-flood       0.82      0.75      0.78        12\n",
            "             vuln-scan       0.42      0.53      0.47        19\n",
            "\n",
            "              accuracy                           0.88       591\n",
            "             macro avg       0.69      0.70      0.68       591\n",
            "          weighted avg       0.89      0.88      0.87       591\n",
            "\n"
          ]
        },
        {
          "output_type": "display_data",
          "data": {
            "text/plain": [
              "<Figure size 1000x700 with 2 Axes>"
            ],
            "image/png": "[encoded data removed]"
          },
          "metadata": {}
        },
        {
          "output_type": "error",
          "ename": "NameError",
          "evalue": "name 'test_acc' is not defined",
          "traceback": [
            "\u001b[0;31m---------------------------------------------------------------------------\u001b[0m",
            "\u001b[0;31mNameError\u001b[0m                                 Traceback (most recent call last)",
            "\u001b[0;32m/tmp/ipython-input-4188234396.py\u001b[0m in \u001b[0;36m<cell line: 0>\u001b[0;34m()\u001b[0m\n\u001b[1;32m     62\u001b[0m \u001b[0;31m# Collect results\u001b[0m\u001b[0;34m\u001b[0m\u001b[0;34m\u001b[0m\u001b[0m\n\u001b[1;32m     63\u001b[0m results = {\n\u001b[0;32m---> 64\u001b[0;31m     \u001b[0;34m\"accuracy\"\u001b[0m\u001b[0;34m:\u001b[0m \u001b[0mtest_acc\u001b[0m\u001b[0;34m,\u001b[0m\u001b[0;34m\u001b[0m\u001b[0;34m\u001b[0m\u001b[0m\n\u001b[0m\u001b[1;32m     65\u001b[0m     \u001b[0;34m\"macro_f1\"\u001b[0m\u001b[0;34m:\u001b[0m \u001b[0mtest_f1\u001b[0m\u001b[0;34m,\u001b[0m\u001b[0;34m\u001b[0m\u001b[0;34m\u001b[0m\u001b[0m\n\u001b[1;32m     66\u001b[0m     \u001b[0;34m\"report\"\u001b[0m\u001b[0;34m:\u001b[0m \u001b[0mreport\u001b[0m\u001b[0;34m\u001b[0m\u001b[0;34m\u001b[0m\u001b[0m\n",
            "\u001b[0;31mNameError\u001b[0m: name 'test_acc' is not defined"
          ]
        }
      ]
    },
    {
      "cell_type": "code",
      "source": [
        "import json\n"
      ],
      "metadata": {
        "id": "sOfgxOzz9Bt6"
      },
      "execution_count": null,
      "outputs": []
    },
    {
      "cell_type": "code",
      "source": [],
      "metadata": {
        "id": "X_aMvNPM9Brb"
      },
      "execution_count": null,
      "outputs": []
    },
    {
      "cell_type": "code",
      "source": [
        "# Setup Git (first time only per machine)\n",
        "!git config --global user.email \"your_email@example.com\"\n",
        "!git config --global user.name \"your_name\"\n",
        "\n",
        "# Save current notebook (from Colab)\n",
        "!jupyter nbconvert --to notebook --execute my_notebook.ipynb --output trained_notebook.ipynb\n",
        "\n",
        "# Push to GitHub\n",
        "!git init\n",
        "!git remote add origin https://github.com/USERNAME/REPO.git\n",
        "!git add .\n",
        "!git commit -m \"Save DL model results\"\n",
        "!git branch -M main\n",
        "!git push -u origin main\n"
      ],
      "metadata": {
        "id": "1Pl7Isbx9UTK"
      },
      "execution_count": null,
      "outputs": []
    },
    {
      "cell_type": "code",
      "source": [],
      "metadata": {
        "id": "oE6Kh8nt9UQS"
      },
      "execution_count": null,
      "outputs": []
    }
  ]
}
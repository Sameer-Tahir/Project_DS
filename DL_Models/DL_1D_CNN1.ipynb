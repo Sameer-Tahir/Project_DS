{
  "nbformat": 4,
  "nbformat_minor": 0,
  "metadata": {
    "colab": {
      "provenance": [],
      "authorship_tag": "ABX9TyM9mK//zjRNQ8Z8KDV+ykiW",
      "include_colab_link": true
    },
    "kernelspec": {
      "name": "python3",
      "display_name": "Python 3"
    },
    "language_info": {
      "name": "python"
    }
  },
  "cells": [
    {
      "cell_type": "markdown",
      "metadata": {
        "id": "view-in-github",
        "colab_type": "text"
      },
      "source": [
        "<a href=\"https://colab.research.google.com/github/Sameer-Tahir/Project_DS/blob/main/DL_Models/DL_1D_CNN1.ipynb\" target=\"_parent\"><img src=\"https://colab.research.google.com/assets/colab-badge.svg\" alt=\"Open In Colab\"/></a>"
      ]
    },
    {
      "cell_type": "code",
      "source": [
        "!git clone https://github.com/Sameer-Tahir/Project_DS.git"
      ],
      "metadata": {
        "colab": {
          "base_uri": "https://localhost:8080/"
        },
        "id": "6eAVTWc-YE7N",
        "outputId": "d83d6eab-2a50-4a97-fcb0-7e73434c9eff"
      },
      "execution_count": 11,
      "outputs": [
        {
          "output_type": "stream",
          "name": "stdout",
          "text": [
            "Cloning into 'Project_DS'...\n",
            "remote: Enumerating objects: 274, done.\u001b[K\n",
            "remote: Counting objects: 100% (161/161), done.\u001b[K\n",
            "remote: Compressing objects: 100% (129/129), done.\u001b[K\n",
            "remote: Total 274 (delta 63), reused 6 (delta 6), pack-reused 113 (from 1)\u001b[K\n",
            "Receiving objects: 100% (274/274), 16.21 MiB | 9.39 MiB/s, done.\n",
            "Resolving deltas: 100% (87/87), done.\n"
          ]
        }
      ]
    },
    {
      "cell_type": "code",
      "execution_count": 2,
      "metadata": {
        "id": "BDRG1dHSXz5w"
      },
      "outputs": [],
      "source": [
        "# Import libraries\n",
        "import pandas as pd   # data processing\n",
        "import numpy as np    # linear algebra\n",
        "import seaborn as sns\n",
        "import matplotlib.pyplot as plt"
      ]
    },
    {
      "cell_type": "code",
      "source": [
        "import pandas as pd\n",
        "import seaborn as sns\n",
        "import matplotlib.pyplot as plt\n",
        "from sklearn.preprocessing import LabelEncoder, StandardScaler\n",
        "from sklearn.metrics import accuracy_score, f1_score, classification_report, confusion_matrix\n",
        "from sklearn.linear_model import LogisticRegression\n",
        "from sklearn.ensemble import RandomForestClassifier\n",
        "from sklearn.svm import SVC\n",
        "from sklearn.neighbors import KNeighborsClassifier\n",
        "from sklearn.naive_bayes import GaussianNB\n",
        "from sklearn.tree import DecisionTreeClassifier\n",
        "from sklearn.ensemble import HistGradientBoostingClassifier\n",
        "from xgboost import XGBClassifier\n",
        "from sklearn.utils.class_weight import compute_class_weight\n",
        "import numpy as np\n",
        "import pandas as pd"
      ],
      "metadata": {
        "id": "E3Yb-YHCYI9S"
      },
      "execution_count": 3,
      "outputs": []
    },
    {
      "cell_type": "code",
      "source": [
        "!pip install tensorflow"
      ],
      "metadata": {
        "colab": {
          "base_uri": "https://localhost:8080/"
        },
        "id": "OMNXKWkpYRmi",
        "outputId": "70df5431-60f6-40c5-fade-2ce1ec577e9c"
      },
      "execution_count": 4,
      "outputs": [
        {
          "output_type": "stream",
          "name": "stdout",
          "text": [
            "Requirement already satisfied: tensorflow in /usr/local/lib/python3.12/dist-packages (2.19.0)\n",
            "Requirement already satisfied: absl-py>=1.0.0 in /usr/local/lib/python3.12/dist-packages (from tensorflow) (1.4.0)\n",
            "Requirement already satisfied: astunparse>=1.6.0 in /usr/local/lib/python3.12/dist-packages (from tensorflow) (1.6.3)\n",
            "Requirement already satisfied: flatbuffers>=24.3.25 in /usr/local/lib/python3.12/dist-packages (from tensorflow) (25.2.10)\n",
            "Requirement already satisfied: gast!=0.5.0,!=0.5.1,!=0.5.2,>=0.2.1 in /usr/local/lib/python3.12/dist-packages (from tensorflow) (0.6.0)\n",
            "Requirement already satisfied: google-pasta>=0.1.1 in /usr/local/lib/python3.12/dist-packages (from tensorflow) (0.2.0)\n",
            "Requirement already satisfied: libclang>=13.0.0 in /usr/local/lib/python3.12/dist-packages (from tensorflow) (18.1.1)\n",
            "Requirement already satisfied: opt-einsum>=2.3.2 in /usr/local/lib/python3.12/dist-packages (from tensorflow) (3.4.0)\n",
            "Requirement already satisfied: packaging in /usr/local/lib/python3.12/dist-packages (from tensorflow) (25.0)\n",
            "Requirement already satisfied: protobuf!=4.21.0,!=4.21.1,!=4.21.2,!=4.21.3,!=4.21.4,!=4.21.5,<6.0.0dev,>=3.20.3 in /usr/local/lib/python3.12/dist-packages (from tensorflow) (5.29.5)\n",
            "Requirement already satisfied: requests<3,>=2.21.0 in /usr/local/lib/python3.12/dist-packages (from tensorflow) (2.32.4)\n",
            "Requirement already satisfied: setuptools in /usr/local/lib/python3.12/dist-packages (from tensorflow) (75.2.0)\n",
            "Requirement already satisfied: six>=1.12.0 in /usr/local/lib/python3.12/dist-packages (from tensorflow) (1.17.0)\n",
            "Requirement already satisfied: termcolor>=1.1.0 in /usr/local/lib/python3.12/dist-packages (from tensorflow) (3.1.0)\n",
            "Requirement already satisfied: typing-extensions>=3.6.6 in /usr/local/lib/python3.12/dist-packages (from tensorflow) (4.15.0)\n",
            "Requirement already satisfied: wrapt>=1.11.0 in /usr/local/lib/python3.12/dist-packages (from tensorflow) (1.17.3)\n",
            "Requirement already satisfied: grpcio<2.0,>=1.24.3 in /usr/local/lib/python3.12/dist-packages (from tensorflow) (1.74.0)\n",
            "Requirement already satisfied: tensorboard~=2.19.0 in /usr/local/lib/python3.12/dist-packages (from tensorflow) (2.19.0)\n",
            "Requirement already satisfied: keras>=3.5.0 in /usr/local/lib/python3.12/dist-packages (from tensorflow) (3.10.0)\n",
            "Requirement already satisfied: numpy<2.2.0,>=1.26.0 in /usr/local/lib/python3.12/dist-packages (from tensorflow) (2.0.2)\n",
            "Requirement already satisfied: h5py>=3.11.0 in /usr/local/lib/python3.12/dist-packages (from tensorflow) (3.14.0)\n",
            "Requirement already satisfied: ml-dtypes<1.0.0,>=0.5.1 in /usr/local/lib/python3.12/dist-packages (from tensorflow) (0.5.3)\n",
            "Requirement already satisfied: wheel<1.0,>=0.23.0 in /usr/local/lib/python3.12/dist-packages (from astunparse>=1.6.0->tensorflow) (0.45.1)\n",
            "Requirement already satisfied: rich in /usr/local/lib/python3.12/dist-packages (from keras>=3.5.0->tensorflow) (13.9.4)\n",
            "Requirement already satisfied: namex in /usr/local/lib/python3.12/dist-packages (from keras>=3.5.0->tensorflow) (0.1.0)\n",
            "Requirement already satisfied: optree in /usr/local/lib/python3.12/dist-packages (from keras>=3.5.0->tensorflow) (0.17.0)\n",
            "Requirement already satisfied: charset_normalizer<4,>=2 in /usr/local/lib/python3.12/dist-packages (from requests<3,>=2.21.0->tensorflow) (3.4.3)\n",
            "Requirement already satisfied: idna<4,>=2.5 in /usr/local/lib/python3.12/dist-packages (from requests<3,>=2.21.0->tensorflow) (3.10)\n",
            "Requirement already satisfied: urllib3<3,>=1.21.1 in /usr/local/lib/python3.12/dist-packages (from requests<3,>=2.21.0->tensorflow) (2.5.0)\n",
            "Requirement already satisfied: certifi>=2017.4.17 in /usr/local/lib/python3.12/dist-packages (from requests<3,>=2.21.0->tensorflow) (2025.8.3)\n",
            "Requirement already satisfied: markdown>=2.6.8 in /usr/local/lib/python3.12/dist-packages (from tensorboard~=2.19.0->tensorflow) (3.9)\n",
            "Requirement already satisfied: tensorboard-data-server<0.8.0,>=0.7.0 in /usr/local/lib/python3.12/dist-packages (from tensorboard~=2.19.0->tensorflow) (0.7.2)\n",
            "Requirement already satisfied: werkzeug>=1.0.1 in /usr/local/lib/python3.12/dist-packages (from tensorboard~=2.19.0->tensorflow) (3.1.3)\n",
            "Requirement already satisfied: MarkupSafe>=2.1.1 in /usr/local/lib/python3.12/dist-packages (from werkzeug>=1.0.1->tensorboard~=2.19.0->tensorflow) (3.0.2)\n",
            "Requirement already satisfied: markdown-it-py>=2.2.0 in /usr/local/lib/python3.12/dist-packages (from rich->keras>=3.5.0->tensorflow) (4.0.0)\n",
            "Requirement already satisfied: pygments<3.0.0,>=2.13.0 in /usr/local/lib/python3.12/dist-packages (from rich->keras>=3.5.0->tensorflow) (2.19.2)\n",
            "Requirement already satisfied: mdurl~=0.1 in /usr/local/lib/python3.12/dist-packages (from markdown-it-py>=2.2.0->rich->keras>=3.5.0->tensorflow) (0.1.2)\n"
          ]
        }
      ]
    },
    {
      "cell_type": "code",
      "source": [
        "# -----------------------\n",
        "# Load your splits\n",
        "# -----------------------\n",
        "train_df = pd.read_csv(\"dfk1_train.csv\")\n",
        "val_df   = pd.read_csv(\"dfk1_val.csv\")\n",
        "test_df  = pd.read_csv(\"dfk1_test.csv\")"
      ],
      "metadata": {
        "id": "p5eORMvDYSDx"
      },
      "execution_count": 5,
      "outputs": []
    },
    {
      "cell_type": "code",
      "source": [
        "!unzip -o dl_preprocessed.zip"
      ],
      "metadata": {
        "colab": {
          "base_uri": "https://localhost:8080/"
        },
        "id": "fGEpnyUkYgu1",
        "outputId": "b03db437-6d35-48e0-e336-94257fe7c27f"
      },
      "execution_count": 6,
      "outputs": [
        {
          "output_type": "stream",
          "name": "stdout",
          "text": [
            "Archive:  dl_preprocessed.zip\n",
            "  inflating: dl_data_windows.npz     \n",
            "  inflating: label_encoder.pkl       \n",
            "  inflating: scaler.pkl              \n"
          ]
        }
      ]
    },
    {
      "cell_type": "code",
      "source": [
        "import numpy as np, joblib\n",
        "\n",
        "# -----------------------\n",
        "# Load preprocessed arrays\n",
        "# -----------------------\n",
        "data = np.load(\"dl_data_windows.npz\", allow_pickle=True)\n",
        "X_train, y_train = data[\"X_train\"], data[\"y_train\"]\n",
        "X_val, y_val     = data[\"X_val\"],   data[\"y_val\"]\n",
        "X_test, y_test   = data[\"X_test\"],  data[\"y_test\"]\n",
        "feature_cols     = data[\"feature_cols\"].tolist()\n",
        "classes          = data[\"classes\"]\n",
        "\n",
        "# Load encoder & scaler\n",
        "le = joblib.load(\"label_encoder.pkl\")\n",
        "scaler = joblib.load(\"scaler.pkl\")\n",
        "\n",
        "print(\"✅ Data loaded successfully\")\n",
        "print(\"Train:\", X_train.shape, y_train.shape)\n",
        "print(\"Val:\",   X_val.shape, y_val.shape)\n",
        "print(\"Test:\",  X_test.shape, y_test.shape)\n",
        "print(\"Classes:\", classes)"
      ],
      "metadata": {
        "colab": {
          "base_uri": "https://localhost:8080/"
        },
        "id": "FxZ6NFu9Ygrz",
        "outputId": "3fa256b8-71e8-46a4-e6f0-d9d983b83748"
      },
      "execution_count": 9,
      "outputs": [
        {
          "output_type": "stream",
          "name": "stdout",
          "text": [
            "✅ Data loaded successfully\n",
            "Train: (4835, 6, 222) (4835,)\n",
            "Val: (591, 6, 222) (591,)\n",
            "Test: (590, 6, 222) (590,)\n",
            "Classes: ['aggressive-scan' 'cryptojacking' 'icmp-flood' 'icmp-fragmentation'\n",
            " 'icmp-fragmentation_old' 'none' 'os-fingerprinting' 'os-scan' 'port-scan'\n",
            " 'push-ack-flood' 'serice-detection' 'service-detection' 'syn-flood'\n",
            " 'syn-stealth' 'synonymous-ip-flood' 'tcp-flood' 'udp-flood' 'vuln-scan']\n"
          ]
        }
      ]
    },
    {
      "cell_type": "code",
      "source": [
        "import tensorflow as tf\n",
        "from tensorflow.keras import layers, models, callbacks"
      ],
      "metadata": {
        "id": "4ktqI27tYgpK"
      },
      "execution_count": 8,
      "outputs": []
    },
    {
      "cell_type": "code",
      "source": [
        "import tensorflow as tf\n",
        "from tensorflow.keras import layers, models, callbacks\n",
        "from sklearn.metrics import accuracy_score, f1_score, classification_report, confusion_matrix\n",
        "import matplotlib.pyplot as plt\n",
        "import numpy as np\n",
        "import json\n",
        "\n",
        "# -----------------------\n",
        "# Build 1D CNN\n",
        "# -----------------------\n",
        "def build_cnn(window, n_features, n_classes):\n",
        "    model = models.Sequential([\n",
        "        layers.Input(shape=(window, n_features)),\n",
        "        layers.Conv1D(64, kernel_size=3, activation=\"relu\", padding=\"same\"),\n",
        "        layers.MaxPooling1D(pool_size=2),\n",
        "        layers.Conv1D(64, kernel_size=3, activation=\"relu\", padding=\"same\"),\n",
        "        layers.GlobalAveragePooling1D(),\n",
        "        layers.Dense(64, activation=\"relu\"),\n",
        "        layers.Dropout(0.3),\n",
        "        layers.Dense(n_classes, activation=\"softmax\")\n",
        "    ])\n",
        "    model.compile(optimizer=\"adam\",\n",
        "                  loss=\"sparse_categorical_crossentropy\",\n",
        "                  metrics=[\"accuracy\"])\n",
        "    return model\n",
        "\n",
        "cnn_model = build_cnn(window=X_train.shape[1], n_features=X_train.shape[2], n_classes=len(classes))\n",
        "\n",
        "# -----------------------\n",
        "# Train CNN\n",
        "# -----------------------\n",
        "early_stop = callbacks.EarlyStopping(monitor=\"val_accuracy\", patience=5, restore_best_weights=True)\n",
        "\n",
        "history_cnn = cnn_model.fit(\n",
        "    X_train, y_train,\n",
        "    validation_data=(X_val, y_val),\n",
        "    epochs=30,\n",
        "    batch_size=64,\n",
        "    callbacks=[early_stop],\n",
        "    verbose=1\n",
        ")\n",
        "\n",
        "# -----------------------\n",
        "# Evaluate CNN\n",
        "# -----------------------\n",
        "y_val_pred = cnn_model.predict(X_val).argmax(axis=1)\n",
        "val_acc = accuracy_score(y_val, y_val_pred)\n",
        "val_f1 = f1_score(y_val, y_val_pred, average=\"macro\")\n",
        "\n",
        "print(\"\\n✅ CNN Results\")\n",
        "print(\"Accuracy:\", val_acc)\n",
        "print(\"Macro-F1:\", val_f1)\n",
        "print(classification_report(y_val, y_val_pred, target_names=classes, zero_division=0))\n",
        "\n",
        "cm = confusion_matrix(y_val, y_val_pred)\n",
        "\n",
        "plt.figure(figsize=(10,7))\n",
        "plt.imshow(cm, cmap=\"Blues\")\n",
        "plt.title(\"CNN Confusion Matrix\")\n",
        "plt.xlabel(\"Predicted\")\n",
        "plt.ylabel(\"Actual\")\n",
        "plt.colorbar()\n",
        "plt.show()\n",
        "\n",
        "# -----------------------\n",
        "# Save Model + Results\n",
        "# -----------------------\n",
        "cnn_model.save(\"cnn_model.h5\")\n",
        "\n",
        "results = {\n",
        "    \"cnn\": {\n",
        "        \"accuracy\": float(val_acc),\n",
        "        \"f1\": float(val_f1),\n",
        "        \"confusion_matrix\": cm.tolist()\n",
        "    }\n",
        "}\n",
        "\n",
        "with open(\"results_cnn.json\", \"w\") as f:\n",
        "    json.dump(results, f, indent=4)\n",
        "\n",
        "print(\"✅ CNN model + results saved\")"
      ],
      "metadata": {
        "colab": {
          "base_uri": "https://localhost:8080/",
          "height": 1000
        },
        "id": "jW6-0NJBYnmJ",
        "outputId": "7ded767d-6004-46f0-c00d-da6efb10052a"
      },
      "execution_count": 10,
      "outputs": [
        {
          "output_type": "stream",
          "name": "stdout",
          "text": [
            "Epoch 1/30\n",
            "\u001b[1m76/76\u001b[0m \u001b[32m━━━━━━━━━━━━━━━━━━━━\u001b[0m\u001b[37m\u001b[0m \u001b[1m5s\u001b[0m 11ms/step - accuracy: 0.4056 - loss: 1.9683 - val_accuracy: 0.6802 - val_loss: 0.9498\n",
            "Epoch 2/30\n",
            "\u001b[1m76/76\u001b[0m \u001b[32m━━━━━━━━━━━━━━━━━━━━\u001b[0m\u001b[37m\u001b[0m \u001b[1m1s\u001b[0m 8ms/step - accuracy: 0.7098 - loss: 0.8735 - val_accuracy: 0.7174 - val_loss: 0.7726\n",
            "Epoch 3/30\n",
            "\u001b[1m76/76\u001b[0m \u001b[32m━━━━━━━━━━━━━━━━━━━━\u001b[0m\u001b[37m\u001b[0m \u001b[1m1s\u001b[0m 8ms/step - accuracy: 0.7331 - loss: 0.7465 - val_accuracy: 0.7547 - val_loss: 0.6952\n",
            "Epoch 4/30\n",
            "\u001b[1m76/76\u001b[0m \u001b[32m━━━━━━━━━━━━━━━━━━━━\u001b[0m\u001b[37m\u001b[0m \u001b[1m1s\u001b[0m 7ms/step - accuracy: 0.7513 - loss: 0.6842 - val_accuracy: 0.7766 - val_loss: 0.6354\n",
            "Epoch 5/30\n",
            "\u001b[1m76/76\u001b[0m \u001b[32m━━━━━━━━━━━━━━━━━━━━\u001b[0m\u001b[37m\u001b[0m \u001b[1m1s\u001b[0m 12ms/step - accuracy: 0.7625 - loss: 0.6607 - val_accuracy: 0.8037 - val_loss: 0.5673\n",
            "Epoch 6/30\n",
            "\u001b[1m76/76\u001b[0m \u001b[32m━━━━━━━━━━━━━━━━━━━━\u001b[0m\u001b[37m\u001b[0m \u001b[1m1s\u001b[0m 13ms/step - accuracy: 0.8010 - loss: 0.5580 - val_accuracy: 0.8020 - val_loss: 0.5188\n",
            "Epoch 7/30\n",
            "\u001b[1m76/76\u001b[0m \u001b[32m━━━━━━━━━━━━━━━━━━━━\u001b[0m\u001b[37m\u001b[0m \u001b[1m1s\u001b[0m 8ms/step - accuracy: 0.8039 - loss: 0.5336 - val_accuracy: 0.8376 - val_loss: 0.4831\n",
            "Epoch 8/30\n",
            "\u001b[1m76/76\u001b[0m \u001b[32m━━━━━━━━━━━━━━━━━━━━\u001b[0m\u001b[37m\u001b[0m \u001b[1m1s\u001b[0m 7ms/step - accuracy: 0.8091 - loss: 0.5158 - val_accuracy: 0.8426 - val_loss: 0.4479\n",
            "Epoch 9/30\n",
            "\u001b[1m76/76\u001b[0m \u001b[32m━━━━━━━━━━━━━━━━━━━━\u001b[0m\u001b[37m\u001b[0m \u001b[1m1s\u001b[0m 8ms/step - accuracy: 0.8283 - loss: 0.4546 - val_accuracy: 0.8528 - val_loss: 0.4219\n",
            "Epoch 10/30\n",
            "\u001b[1m76/76\u001b[0m \u001b[32m━━━━━━━━━━━━━━━━━━━━\u001b[0m\u001b[37m\u001b[0m \u001b[1m1s\u001b[0m 8ms/step - accuracy: 0.8232 - loss: 0.4553 - val_accuracy: 0.8274 - val_loss: 0.4197\n",
            "Epoch 11/30\n",
            "\u001b[1m76/76\u001b[0m \u001b[32m━━━━━━━━━━━━━━━━━━━━\u001b[0m\u001b[37m\u001b[0m \u001b[1m1s\u001b[0m 7ms/step - accuracy: 0.8382 - loss: 0.4229 - val_accuracy: 0.8511 - val_loss: 0.3922\n",
            "Epoch 12/30\n",
            "\u001b[1m76/76\u001b[0m \u001b[32m━━━━━━━━━━━━━━━━━━━━\u001b[0m\u001b[37m\u001b[0m \u001b[1m1s\u001b[0m 7ms/step - accuracy: 0.8375 - loss: 0.4227 - val_accuracy: 0.8545 - val_loss: 0.3860\n",
            "Epoch 13/30\n",
            "\u001b[1m76/76\u001b[0m \u001b[32m━━━━━━━━━━━━━━━━━━━━\u001b[0m\u001b[37m\u001b[0m \u001b[1m1s\u001b[0m 7ms/step - accuracy: 0.8416 - loss: 0.4007 - val_accuracy: 0.8663 - val_loss: 0.3650\n",
            "Epoch 14/30\n",
            "\u001b[1m76/76\u001b[0m \u001b[32m━━━━━━━━━━━━━━━━━━━━\u001b[0m\u001b[37m\u001b[0m \u001b[1m1s\u001b[0m 7ms/step - accuracy: 0.8483 - loss: 0.3819 - val_accuracy: 0.8714 - val_loss: 0.3604\n",
            "Epoch 15/30\n",
            "\u001b[1m76/76\u001b[0m \u001b[32m━━━━━━━━━━━━━━━━━━━━\u001b[0m\u001b[37m\u001b[0m \u001b[1m1s\u001b[0m 7ms/step - accuracy: 0.8617 - loss: 0.3682 - val_accuracy: 0.8646 - val_loss: 0.3629\n",
            "Epoch 16/30\n",
            "\u001b[1m76/76\u001b[0m \u001b[32m━━━━━━━━━━━━━━━━━━━━\u001b[0m\u001b[37m\u001b[0m \u001b[1m1s\u001b[0m 7ms/step - accuracy: 0.8543 - loss: 0.3752 - val_accuracy: 0.8629 - val_loss: 0.3434\n",
            "Epoch 17/30\n",
            "\u001b[1m76/76\u001b[0m \u001b[32m━━━━━━━━━━━━━━━━━━━━\u001b[0m\u001b[37m\u001b[0m \u001b[1m1s\u001b[0m 7ms/step - accuracy: 0.8742 - loss: 0.3337 - val_accuracy: 0.8748 - val_loss: 0.3409\n",
            "Epoch 18/30\n",
            "\u001b[1m76/76\u001b[0m \u001b[32m━━━━━━━━━━━━━━━━━━━━\u001b[0m\u001b[37m\u001b[0m \u001b[1m1s\u001b[0m 7ms/step - accuracy: 0.8712 - loss: 0.3230 - val_accuracy: 0.8629 - val_loss: 0.3400\n",
            "Epoch 19/30\n",
            "\u001b[1m76/76\u001b[0m \u001b[32m━━━━━━━━━━━━━━━━━━━━\u001b[0m\u001b[37m\u001b[0m \u001b[1m1s\u001b[0m 8ms/step - accuracy: 0.8757 - loss: 0.3159 - val_accuracy: 0.8646 - val_loss: 0.3521\n",
            "Epoch 20/30\n",
            "\u001b[1m76/76\u001b[0m \u001b[32m━━━━━━━━━━━━━━━━━━━━\u001b[0m\u001b[37m\u001b[0m \u001b[1m1s\u001b[0m 7ms/step - accuracy: 0.8710 - loss: 0.3195 - val_accuracy: 0.8782 - val_loss: 0.3279\n",
            "Epoch 21/30\n",
            "\u001b[1m76/76\u001b[0m \u001b[32m━━━━━━━━━━━━━━━━━━━━\u001b[0m\u001b[37m\u001b[0m \u001b[1m1s\u001b[0m 8ms/step - accuracy: 0.8727 - loss: 0.3218 - val_accuracy: 0.8849 - val_loss: 0.3386\n",
            "Epoch 22/30\n",
            "\u001b[1m76/76\u001b[0m \u001b[32m━━━━━━━━━━━━━━━━━━━━\u001b[0m\u001b[37m\u001b[0m \u001b[1m1s\u001b[0m 10ms/step - accuracy: 0.8638 - loss: 0.3378 - val_accuracy: 0.8731 - val_loss: 0.3299\n",
            "Epoch 23/30\n",
            "\u001b[1m76/76\u001b[0m \u001b[32m━━━━━━━━━━━━━━━━━━━━\u001b[0m\u001b[37m\u001b[0m \u001b[1m1s\u001b[0m 12ms/step - accuracy: 0.8785 - loss: 0.3071 - val_accuracy: 0.8782 - val_loss: 0.3379\n",
            "Epoch 24/30\n",
            "\u001b[1m76/76\u001b[0m \u001b[32m━━━━━━━━━━━━━━━━━━━━\u001b[0m\u001b[37m\u001b[0m \u001b[1m1s\u001b[0m 12ms/step - accuracy: 0.8809 - loss: 0.3032 - val_accuracy: 0.8799 - val_loss: 0.3198\n",
            "Epoch 25/30\n",
            "\u001b[1m76/76\u001b[0m \u001b[32m━━━━━━━━━━━━━━━━━━━━\u001b[0m\u001b[37m\u001b[0m \u001b[1m1s\u001b[0m 15ms/step - accuracy: 0.8821 - loss: 0.3017 - val_accuracy: 0.8765 - val_loss: 0.3526\n",
            "Epoch 26/30\n",
            "\u001b[1m76/76\u001b[0m \u001b[32m━━━━━━━━━━━━━━━━━━━━\u001b[0m\u001b[37m\u001b[0m \u001b[1m1s\u001b[0m 12ms/step - accuracy: 0.8757 - loss: 0.2968 - val_accuracy: 0.8849 - val_loss: 0.3300\n",
            "\u001b[1m19/19\u001b[0m \u001b[32m━━━━━━━━━━━━━━━━━━━━\u001b[0m\u001b[37m\u001b[0m \u001b[1m0s\u001b[0m 6ms/step\n",
            "\n",
            "✅ CNN Results\n",
            "Accuracy: 0.8849407783417935\n",
            "Macro-F1: 0.6930726057356492\n",
            "                        precision    recall  f1-score   support\n",
            "\n",
            "       aggressive-scan       0.46      0.89      0.61        19\n",
            "         cryptojacking       1.00      1.00      1.00       165\n",
            "            icmp-flood       0.68      1.00      0.81        13\n",
            "    icmp-fragmentation       0.92      1.00      0.96        11\n",
            "icmp-fragmentation_old       1.00      0.17      0.29         6\n",
            "                  none       1.00      1.00      1.00       220\n",
            "     os-fingerprinting       0.00      0.00      0.00        12\n",
            "               os-scan       0.43      1.00      0.60         6\n",
            "             port-scan       0.80      0.40      0.53        20\n",
            "        push-ack-flood       1.00      1.00      1.00        13\n",
            "      serice-detection       0.71      0.83      0.77         6\n",
            "     service-detection       0.55      0.43      0.48        14\n",
            "             syn-flood       1.00      0.92      0.96        13\n",
            "           syn-stealth       0.67      0.56      0.61        18\n",
            "   synonymous-ip-flood       0.83      0.83      0.83        12\n",
            "             tcp-flood       0.91      0.83      0.87        12\n",
            "             udp-flood       0.89      0.67      0.76        12\n",
            "             vuln-scan       0.38      0.42      0.40        19\n",
            "\n",
            "              accuracy                           0.88       591\n",
            "             macro avg       0.73      0.72      0.69       591\n",
            "          weighted avg       0.89      0.88      0.88       591\n",
            "\n"
          ]
        },
        {
          "output_type": "display_data",
          "data": {
            "text/plain": [
              "<Figure size 1000x700 with 2 Axes>"
            ],
            "image/png": "[encoded data removed]"
          },
          "metadata": {}
        },
        {
          "output_type": "stream",
          "name": "stderr",
          "text": [
            "WARNING:absl:You are saving your model as an HDF5 file via `model.save()` or `keras.saving.save_model(model)`. This file format is considered legacy. We recommend using instead the native Keras format, e.g. `model.save('my_model.keras')` or `keras.saving.save_model(model, 'my_model.keras')`. \n"
          ]
        },
        {
          "output_type": "stream",
          "name": "stdout",
          "text": [
            "✅ CNN model + results saved\n"
          ]
        }
      ]
    },
    {
      "cell_type": "code",
      "source": [],
      "metadata": {
        "id": "U5ROBbKAYnjS"
      },
      "execution_count": null,
      "outputs": []
    },
    {
      "cell_type": "code",
      "source": [],
      "metadata": {
        "id": "emEFhpOqYngj"
      },
      "execution_count": null,
      "outputs": []
    },
    {
      "cell_type": "code",
      "source": [
        "# Setup Git (first time only per machine)\n",
        "!git config --global user.email \"your_email@example.com\"\n",
        "!git config --global user.name \"your_name\"\n",
        "\n",
        "# Save current notebook (from Colab)\n",
        "!jupyter nbconvert --to notebook --execute my_notebook.ipynb --output trained_notebook.ipynb\n",
        "\n",
        "# Push to GitHub\n",
        "!git init\n",
        "!git remote add origin https://github.com/USERNAME/REPO.git\n",
        "!git add .\n",
        "!git commit -m \"Save DL model results\"\n",
        "!git branch -M main\n",
        "!git push -u origin main"
      ],
      "metadata": {
        "id": "cZ8JPGDrZBER"
      },
      "execution_count": null,
      "outputs": []
    },
    {
      "cell_type": "code",
      "source": [],
      "metadata": {
        "id": "UvP-uKpiZA_g"
      },
      "execution_count": null,
      "outputs": []
    }
  ]
}